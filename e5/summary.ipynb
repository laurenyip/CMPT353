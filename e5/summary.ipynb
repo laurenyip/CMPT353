{
 "cells": [
  {
   "cell_type": "code",
   "execution_count": 22,
   "metadata": {},
   "outputs": [],
   "source": [
    "import pandas as pd\n",
    "import numpy as np"
   ]
  },
  {
   "cell_type": "code",
   "execution_count": 23,
   "metadata": {},
   "outputs": [],
   "source": [
    "filename = 'data-6.csv' # replace with whatever filename"
   ]
  },
  {
   "cell_type": "code",
   "execution_count": 24,
   "metadata": {},
   "outputs": [],
   "source": [
    "# Load data\n",
    "data = pd.read_csv(filename)"
   ]
  },
  {
   "cell_type": "code",
   "execution_count": 25,
   "metadata": {},
   "outputs": [],
   "source": [
    "# Extract variables\n",
    "x_variable = data['x']\n",
    "y_variable = data['y']"
   ]
  },
  {
   "cell_type": "code",
   "execution_count": 26,
   "metadata": {},
   "outputs": [],
   "source": [
    "# Calculate mean, standard deviation, min, and max for both variables\n",
    "x_mean, x_std, x_min, x_max = np.mean(x_variable), np.std(x_variable), np.min(x_variable), np.max(x_variable)\n",
    "y_mean, y_std, y_min, y_max = np.mean(y_variable), np.std(y_variable), np.min(y_variable), np.max(y_variable)"
   ]
  },
  {
   "cell_type": "code",
   "execution_count": 27,
   "metadata": {},
   "outputs": [],
   "source": [
    "# Calculate the correlation coefficient\n",
    "correlation_coefficient = np.corrcoef(x_variable, y_variable)"
   ]
  },
  {
   "cell_type": "code",
   "execution_count": 28,
   "metadata": {},
   "outputs": [],
   "source": [
    "with open('summary.txt', 'w') as summary_file:\n",
    "    summary_file.write(f\"Summary for {filename}:\\n\"\n",
    "                       f\"X Variable - Mean: {x_mean}, Std: {x_std}, Min: {x_min}, Max: {x_max}\\n\"\n",
    "                       f\"Y Variable - Mean: {y_mean}, Std: {y_std}, Min: {y_min}, Max: {y_max}\\n\"\n",
    "                       f\"Correlation Coefficient (X, Y): {correlation_coefficient}\\n\\n\"\n",
    "                       f\"One sentence description: {filename} contains data points of X and Y variables, and the summary statistics provide insight into their distribution and relationship to each other.\\n\\n\")"
   ]
  }
 ],
 "metadata": {
  "kernelspec": {
   "display_name": "venv",
   "language": "python",
   "name": "python3"
  },
  "language_info": {
   "codemirror_mode": {
    "name": "ipython",
    "version": 3
   },
   "file_extension": ".py",
   "mimetype": "text/x-python",
   "name": "python",
   "nbconvert_exporter": "python",
   "pygments_lexer": "ipython3",
   "version": "3.10.12"
  }
 },
 "nbformat": 4,
 "nbformat_minor": 2
}
